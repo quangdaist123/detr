{
  "nbformat": 4,
  "nbformat_minor": 0,
  "metadata": {
    "colab": {
      "name": "DETR.ipynb",
      "provenance": [],
      "collapsed_sections": [],
      "toc_visible": true
    },
    "kernelspec": {
      "name": "python3",
      "display_name": "Python 3"
    },
    "accelerator": "GPU"
  },
  "cells": [
    {
      "cell_type": "markdown",
      "metadata": {
        "id": "PIwQZhsuleWv",
        "colab_type": "text"
      },
      "source": [
        "# Importing requirements"
      ]
    },
    {
      "cell_type": "code",
      "metadata": {
        "id": "7ZtfBV2d38nh",
        "colab_type": "code",
        "colab": {}
      },
      "source": [
        "!git clone https://github.com/facebookresearch/detr.git"
      ],
      "execution_count": null,
      "outputs": []
    },
    {
      "cell_type": "code",
      "metadata": {
        "id": "LBAM6Hmrgyru",
        "colab_type": "code",
        "colab": {}
      },
      "source": [
        "from PIL import Image\n",
        "import requests\n",
        "import matplotlib.pyplot as plt\n",
        "%config InlineBackend.figure_format = 'retina'\n",
        "\n",
        "import torch\n",
        "from torch import nn\n",
        "from torchvision.models import resnet50\n",
        "import torchvision.transforms as T\n",
        "torch.set_grad_enabled(False);\n",
        "import os"
      ],
      "execution_count": 4,
      "outputs": []
    },
    {
      "cell_type": "code",
      "metadata": {
        "id": "RHqGMD174P1m",
        "colab_type": "code",
        "colab": {}
      },
      "source": [
        "!pip install torch==1.5.0+cu101 torchvision==0.6.0+cu101 -f https://download.pytorch.org/whl/torch_stable.html\n",
        "!pip install scipy\n",
        "!pip install Cython --install-option=\"--no-cython-compile\"\n",
        "!pip install -U 'git+https://github.com/cocodataset/cocoapi.git#subdirectory=PythonAPI'"
      ],
      "execution_count": null,
      "outputs": []
    },
    {
      "cell_type": "markdown",
      "metadata": {
        "id": "oc09dq52lbVv",
        "colab_type": "text"
      },
      "source": [
        "# Fine-tuning pretrained model"
      ]
    },
    {
      "cell_type": "code",
      "metadata": {
        "id": "z_4-FHDljWXb",
        "colab_type": "code",
        "colab": {}
      },
      "source": [
        "os.chdir('detr')\n",
        "!wget https://dl.fbaipublicfiles.com/detr/detr-r50-e632da11.pth"
      ],
      "execution_count": null,
      "outputs": []
    },
    {
      "cell_type": "code",
      "metadata": {
        "id": "CWqYiXsWj67r",
        "colab_type": "code",
        "colab": {}
      },
      "source": [
        "checkpoint = torch.load(\"detr-r50-e632da11.pth\", map_location='cpu')\n",
        "del checkpoint[\"model\"][\"class_embed.weight\"]\n",
        "del checkpoint[\"model\"][\"class_embed.bias\"]\n",
        "torch.save(checkpoint,\"detr-r50_no-class-head.pth\")"
      ],
      "execution_count": null,
      "outputs": []
    },
    {
      "cell_type": "markdown",
      "metadata": {
        "id": "lLmhATxFl0bp",
        "colab_type": "text"
      },
      "source": [
        "# Training with facemask dataset"
      ]
    },
    {
      "cell_type": "code",
      "metadata": {
        "id": "ltSjthD8kfNO",
        "colab_type": "code",
        "colab": {
          "base_uri": "https://localhost:8080/",
          "height": 471
        },
        "collapsed": true,
        "outputId": "b49ae95c-f1d3-46c2-aaef-4bcd319ca149"
      },
      "source": [
        "!python main.py --coco_path /PATH/TO/DATASET --epochs /NUM/OF/EPOCHS --batch_size= /YOUR/BATCH/SIZE --output_dir= /YOUR/OUTPUT/FOLDER --resume=\"detr-r50_no-class-head.pth\""
      ],
      "execution_count": null,
      "outputs": [
        {
          "output_type": "stream",
          "text": [
            "Not using distributed mode\n",
            "git:\n",
            "  sha: 10a2c759454930813aeac7af5e779f835dcb75f5, status: has uncommited changes, branch: master\n",
            "\n",
            "Namespace(aux_loss=True, backbone='resnet50', batch_size=2, bbox_loss_coef=5, clip_max_norm=0.1, coco_panoptic_path=None, coco_path='facemask00', dataset_file='coco', dec_layers=6, device='cuda', dice_loss_coef=1, dilation=False, dim_feedforward=2048, dist_url='env://', distributed=False, dropout=0.1, enc_layers=6, eos_coef=0.1, epochs=100, eval=False, frozen_weights=None, giou_loss_coef=2, hidden_dim=256, lr=0.0001, lr_backbone=1e-05, lr_drop=200, mask_loss_coef=1, masks=False, nheads=8, num_queries=100, num_workers=4, output_dir='outputs', position_embedding='sine', pre_norm=False, remove_difficult=False, resume='checkpoint.pth', seed=42, set_cost_bbox=5, set_cost_class=1, set_cost_giou=2, start_epoch=0, weight_decay=0.0001, world_size=1)\n",
            "number of params: 41279752\n",
            "loading annotations into memory...\n",
            "Done (t=0.01s)\n",
            "creating index...\n",
            "index created!\n",
            "loading annotations into memory...\n",
            "Done (t=0.00s)\n",
            "creating index...\n",
            "index created!\n",
            "Start training\n",
            "Epoch: [10]  [  0/295]  eta: 0:04:31  lr: 0.000100  class_error: 0.00  loss: 3.5137 (3.5137)  loss_ce: 0.0031 (0.0031)  loss_bbox: 0.2827 (0.2827)  loss_giou: 0.3309 (0.3309)  loss_ce_0: 0.0542 (0.0542)  loss_bbox_0: 0.2069 (0.2069)  loss_giou_0: 0.2286 (0.2286)  loss_ce_1: 0.0315 (0.0315)  loss_bbox_1: 0.2415 (0.2415)  loss_giou_1: 0.2915 (0.2915)  loss_ce_2: 0.0056 (0.0056)  loss_bbox_2: 0.2423 (0.2423)  loss_giou_2: 0.3265 (0.3265)  loss_ce_3: 0.0042 (0.0042)  loss_bbox_3: 0.2762 (0.2762)  loss_giou_3: 0.3448 (0.3448)  loss_ce_4: 0.0039 (0.0039)  loss_bbox_4: 0.2953 (0.2953)  loss_giou_4: 0.3441 (0.3441)  loss_ce_unscaled: 0.0031 (0.0031)  class_error_unscaled: 0.0000 (0.0000)  loss_bbox_unscaled: 0.0565 (0.0565)  loss_giou_unscaled: 0.1654 (0.1654)  cardinality_error_unscaled: 0.0000 (0.0000)  loss_ce_0_unscaled: 0.0542 (0.0542)  loss_bbox_0_unscaled: 0.0414 (0.0414)  loss_giou_0_unscaled: 0.1143 (0.1143)  cardinality_error_0_unscaled: 1.0000 (1.0000)  loss_ce_1_unscaled: 0.0315 (0.0315)  loss_bbox_1_unscaled: 0.0483 (0.0483)  loss_giou_1_unscaled: 0.1458 (0.1458)  cardinality_error_1_unscaled: 1.0000 (1.0000)  loss_ce_2_unscaled: 0.0056 (0.0056)  loss_bbox_2_unscaled: 0.0485 (0.0485)  loss_giou_2_unscaled: 0.1632 (0.1632)  cardinality_error_2_unscaled: 0.0000 (0.0000)  loss_ce_3_unscaled: 0.0042 (0.0042)  loss_bbox_3_unscaled: 0.0552 (0.0552)  loss_giou_3_unscaled: 0.1724 (0.1724)  cardinality_error_3_unscaled: 0.0000 (0.0000)  loss_ce_4_unscaled: 0.0039 (0.0039)  loss_bbox_4_unscaled: 0.0591 (0.0591)  loss_giou_4_unscaled: 0.1721 (0.1721)  cardinality_error_4_unscaled: 0.0000 (0.0000)  time: 0.9203  data: 0.3783  max mem: 2389\n",
            "Epoch: [10]  [ 10/295]  eta: 0:01:38  lr: 0.000100  class_error: 20.00  loss: 4.8566 (4.8220)  loss_ce: 0.0445 (0.0897)  loss_bbox: 0.1763 (0.1966)  loss_giou: 0.3720 (0.4762)  loss_ce_0: 0.2010 (0.1968)  loss_bbox_0: 0.1578 (0.1959)  loss_giou_0: 0.4388 (0.4779)  loss_ce_1: 0.0961 (0.1240)  loss_bbox_1: 0.2048 (0.2148)  loss_giou_1: 0.4483 (0.5108)  loss_ce_2: 0.0698 (0.0941)  loss_bbox_2: 0.1833 (0.2102)  loss_giou_2: 0.4184 (0.4892)  loss_ce_3: 0.0543 (0.1001)  loss_bbox_3: 0.1745 (0.2043)  loss_giou_3: 0.3967 (0.4831)  loss_ce_4: 0.0478 (0.0902)  loss_bbox_4: 0.1682 (0.1964)  loss_giou_4: 0.3560 (0.4718)  loss_ce_unscaled: 0.0445 (0.0897)  class_error_unscaled: 0.0000 (6.5584)  loss_bbox_unscaled: 0.0353 (0.0393)  loss_giou_unscaled: 0.1860 (0.2381)  cardinality_error_unscaled: 0.5000 (1.0455)  loss_ce_0_unscaled: 0.2010 (0.1968)  loss_bbox_0_unscaled: 0.0316 (0.0392)  loss_giou_0_unscaled: 0.2194 (0.2389)  cardinality_error_0_unscaled: 3.0000 (3.8636)  loss_ce_1_unscaled: 0.0961 (0.1240)  loss_bbox_1_unscaled: 0.0410 (0.0430)  loss_giou_1_unscaled: 0.2242 (0.2554)  cardinality_error_1_unscaled: 1.5000 (2.2273)  loss_ce_2_unscaled: 0.0698 (0.0941)  loss_bbox_2_unscaled: 0.0367 (0.0420)  loss_giou_2_unscaled: 0.2092 (0.2446)  cardinality_error_2_unscaled: 0.5000 (0.9545)  loss_ce_3_unscaled: 0.0543 (0.1001)  loss_bbox_3_unscaled: 0.0349 (0.0409)  loss_giou_3_unscaled: 0.1983 (0.2415)  cardinality_error_3_unscaled: 0.5000 (1.0909)  loss_ce_4_unscaled: 0.0478 (0.0902)  loss_bbox_4_unscaled: 0.0336 (0.0393)  loss_giou_4_unscaled: 0.1780 (0.2359)  cardinality_error_4_unscaled: 0.5000 (1.0455)  time: 0.3462  data: 0.0424  max mem: 3059\n",
            "Epoch: [10]  [ 20/295]  eta: 0:01:25  lr: 0.000100  class_error: 25.00  loss: 4.9297 (4.8337)  loss_ce: 0.0515 (0.0923)  loss_bbox: 0.1537 (0.1878)  loss_giou: 0.4990 (0.4929)  loss_ce_0: 0.2065 (0.2063)  loss_bbox_0: 0.1578 (0.1920)  loss_giou_0: 0.4670 (0.5039)  loss_ce_1: 0.1114 (0.1347)  loss_bbox_1: 0.1690 (0.1998)  loss_giou_1: 0.4483 (0.4929)  loss_ce_2: 0.0713 (0.1095)  loss_bbox_2: 0.1640 (0.1907)  loss_giou_2: 0.4283 (0.4796)  loss_ce_3: 0.0555 (0.0994)  loss_bbox_3: 0.1641 (0.1910)  loss_giou_3: 0.4086 (0.4920)  loss_ce_4: 0.0556 (0.0906)  loss_bbox_4: 0.1585 (0.1869)  loss_giou_4: 0.4731 (0.4915)  loss_ce_unscaled: 0.0515 (0.0923)  class_error_unscaled: 0.0000 (6.1735)  loss_bbox_unscaled: 0.0307 (0.0376)  loss_giou_unscaled: 0.2495 (0.2465)  cardinality_error_unscaled: 0.5000 (0.9524)  loss_ce_0_unscaled: 0.2065 (0.2063)  loss_bbox_0_unscaled: 0.0316 (0.0384)  loss_giou_0_unscaled: 0.2335 (0.2520)  cardinality_error_0_unscaled: 2.5000 (3.7619)  loss_ce_1_unscaled: 0.1114 (0.1347)  loss_bbox_1_unscaled: 0.0338 (0.0400)  loss_giou_1_unscaled: 0.2242 (0.2464)  cardinality_error_1_unscaled: 1.5000 (2.2619)  loss_ce_2_unscaled: 0.0713 (0.1095)  loss_bbox_2_unscaled: 0.0328 (0.0381)  loss_giou_2_unscaled: 0.2141 (0.2398)  cardinality_error_2_unscaled: 0.5000 (1.1190)  loss_ce_3_unscaled: 0.0555 (0.0994)  loss_bbox_3_unscaled: 0.0328 (0.0382)  loss_giou_3_unscaled: 0.2043 (0.2460)  cardinality_error_3_unscaled: 0.5000 (1.0000)  loss_ce_4_unscaled: 0.0556 (0.0906)  loss_bbox_4_unscaled: 0.0317 (0.0374)  loss_giou_4_unscaled: 0.2365 (0.2457)  cardinality_error_4_unscaled: 1.0000 (1.0238)  time: 0.2811  data: 0.0087  max mem: 3220\n",
            "Epoch: [10]  [ 30/295]  eta: 0:01:19  lr: 0.000100  class_error: 0.00  loss: 3.6245 (4.6545)  loss_ce: 0.0510 (0.0833)  loss_bbox: 0.1560 (0.1915)  loss_giou: 0.4990 (0.4690)  loss_ce_0: 0.1943 (0.1950)  loss_bbox_0: 0.1818 (0.1950)  loss_giou_0: 0.4190 (0.4788)  loss_ce_1: 0.1007 (0.1261)  loss_bbox_1: 0.1719 (0.1988)  loss_giou_1: 0.4066 (0.4721)  loss_ce_2: 0.0704 (0.1053)  loss_bbox_2: 0.1640 (0.1887)  loss_giou_2: 0.4183 (0.4599)  loss_ce_3: 0.0488 (0.0882)  loss_bbox_3: 0.1584 (0.1930)  loss_giou_3: 0.4044 (0.4661)  loss_ce_4: 0.0479 (0.0851)  loss_bbox_4: 0.1549 (0.1909)  loss_giou_4: 0.4644 (0.4677)  loss_ce_unscaled: 0.0510 (0.0833)  class_error_unscaled: 0.0000 (6.1790)  loss_bbox_unscaled: 0.0312 (0.0383)  loss_giou_unscaled: 0.2495 (0.2345)  cardinality_error_unscaled: 0.5000 (0.9677)  loss_ce_0_unscaled: 0.1943 (0.1950)  loss_bbox_0_unscaled: 0.0364 (0.0390)  loss_giou_0_unscaled: 0.2095 (0.2394)  cardinality_error_0_unscaled: 1.5000 (3.4194)  loss_ce_1_unscaled: 0.1007 (0.1261)  loss_bbox_1_unscaled: 0.0344 (0.0398)  loss_giou_1_unscaled: 0.2033 (0.2361)  cardinality_error_1_unscaled: 1.5000 (2.3387)  loss_ce_2_unscaled: 0.0704 (0.1053)  loss_bbox_2_unscaled: 0.0328 (0.0377)  loss_giou_2_unscaled: 0.2092 (0.2299)  cardinality_error_2_unscaled: 0.5000 (1.2419)  loss_ce_3_unscaled: 0.0488 (0.0882)  loss_bbox_3_unscaled: 0.0317 (0.0386)  loss_giou_3_unscaled: 0.2022 (0.2331)  cardinality_error_3_unscaled: 0.5000 (0.9839)  loss_ce_4_unscaled: 0.0479 (0.0851)  loss_bbox_4_unscaled: 0.0310 (0.0382)  loss_giou_4_unscaled: 0.2322 (0.2339)  cardinality_error_4_unscaled: 1.0000 (1.0161)  time: 0.2733  data: 0.0088  max mem: 3220\n",
            "Epoch: [10]  [ 40/295]  eta: 0:01:16  lr: 0.000100  class_error: 0.00  loss: 3.9639 (4.6544)  loss_ce: 0.0132 (0.0834)  loss_bbox: 0.1691 (0.1894)  loss_giou: 0.4096 (0.4756)  loss_ce_0: 0.1831 (0.1940)  loss_bbox_0: 0.1675 (0.1901)  loss_giou_0: 0.3673 (0.4769)  loss_ce_1: 0.0503 (0.1239)  loss_bbox_1: 0.1650 (0.1925)  loss_giou_1: 0.3634 (0.4704)  loss_ce_2: 0.0304 (0.0995)  loss_bbox_2: 0.1697 (0.1874)  loss_giou_2: 0.3836 (0.4737)  loss_ce_3: 0.0290 (0.0866)  loss_bbox_3: 0.1745 (0.1909)  loss_giou_3: 0.3510 (0.4740)  loss_ce_4: 0.0136 (0.0841)  loss_bbox_4: 0.1801 (0.1893)  loss_giou_4: 0.3896 (0.4727)  loss_ce_unscaled: 0.0132 (0.0834)  class_error_unscaled: 0.0000 (5.5690)  loss_bbox_unscaled: 0.0338 (0.0379)  loss_giou_unscaled: 0.2048 (0.2378)  cardinality_error_unscaled: 0.5000 (1.2683)  loss_ce_0_unscaled: 0.1831 (0.1940)  loss_bbox_0_unscaled: 0.0335 (0.0380)  loss_giou_0_unscaled: 0.1837 (0.2385)  cardinality_error_0_unscaled: 1.5000 (3.3049)  loss_ce_1_unscaled: 0.0503 (0.1239)  loss_bbox_1_unscaled: 0.0330 (0.0385)  loss_giou_1_unscaled: 0.1817 (0.2352)  cardinality_error_1_unscaled: 1.0000 (2.3659)  loss_ce_2_unscaled: 0.0304 (0.0995)  loss_bbox_2_unscaled: 0.0339 (0.0375)  loss_giou_2_unscaled: 0.1918 (0.2368)  cardinality_error_2_unscaled: 0.5000 (1.4268)  loss_ce_3_unscaled: 0.0290 (0.0866)  loss_bbox_3_unscaled: 0.0349 (0.0382)  loss_giou_3_unscaled: 0.1755 (0.2370)  cardinality_error_3_unscaled: 0.5000 (1.2683)  loss_ce_4_unscaled: 0.0136 (0.0841)  loss_bbox_4_unscaled: 0.0360 (0.0379)  loss_giou_4_unscaled: 0.1948 (0.2364)  cardinality_error_4_unscaled: 0.5000 (1.3293)  time: 0.2906  data: 0.0092  max mem: 4054\n",
            "Epoch: [10]  [ 50/295]  eta: 0:01:13  lr: 0.000100  class_error: 14.29  loss: 4.8413 (4.7906)  loss_ce: 0.0495 (0.0911)  loss_bbox: 0.1589 (0.1892)  loss_giou: 0.4770 (0.4886)  loss_ce_0: 0.1831 (0.2032)  loss_bbox_0: 0.1675 (0.1928)  loss_giou_0: 0.4903 (0.4956)  loss_ce_1: 0.0781 (0.1339)  loss_bbox_1: 0.1642 (0.1934)  loss_giou_1: 0.4908 (0.4914)  loss_ce_2: 0.0597 (0.1077)  loss_bbox_2: 0.1689 (0.1867)  loss_giou_2: 0.5178 (0.4857)  loss_ce_3: 0.0513 (0.0931)  loss_bbox_3: 0.1529 (0.1880)  loss_giou_3: 0.4977 (0.4857)  loss_ce_4: 0.0511 (0.0922)  loss_bbox_4: 0.1553 (0.1877)  loss_giou_4: 0.4512 (0.4845)  loss_ce_unscaled: 0.0495 (0.0911)  class_error_unscaled: 0.0000 (6.4145)  loss_bbox_unscaled: 0.0318 (0.0378)  loss_giou_unscaled: 0.2385 (0.2443)  cardinality_error_unscaled: 1.0000 (1.3529)  loss_ce_0_unscaled: 0.1831 (0.2032)  loss_bbox_0_unscaled: 0.0335 (0.0386)  loss_giou_0_unscaled: 0.2452 (0.2478)  cardinality_error_0_unscaled: 3.0000 (3.7549)  loss_ce_1_unscaled: 0.0781 (0.1339)  loss_bbox_1_unscaled: 0.0328 (0.0387)  loss_giou_1_unscaled: 0.2454 (0.2457)  cardinality_error_1_unscaled: 1.5000 (2.4706)  loss_ce_2_unscaled: 0.0597 (0.1077)  loss_bbox_2_unscaled: 0.0338 (0.0373)  loss_giou_2_unscaled: 0.2589 (0.2429)  cardinality_error_2_unscaled: 1.0000 (1.5098)  loss_ce_3_unscaled: 0.0513 (0.0931)  loss_bbox_3_unscaled: 0.0306 (0.0376)  loss_giou_3_unscaled: 0.2489 (0.2428)  cardinality_error_3_unscaled: 1.0000 (1.3431)  loss_ce_4_unscaled: 0.0511 (0.0922)  loss_bbox_4_unscaled: 0.0311 (0.0375)  loss_giou_4_unscaled: 0.2256 (0.2423)  cardinality_error_4_unscaled: 1.0000 (1.4314)  time: 0.2990  data: 0.0093  max mem: 4054\n",
            "Epoch: [10]  [ 60/295]  eta: 0:01:09  lr: 0.000100  class_error: 8.33  loss: 4.8413 (4.7289)  loss_ce: 0.0874 (0.0912)  loss_bbox: 0.1695 (0.1891)  loss_giou: 0.5002 (0.4772)  loss_ce_0: 0.2150 (0.2031)  loss_bbox_0: 0.1754 (0.1893)  loss_giou_0: 0.5622 (0.4851)  loss_ce_1: 0.1226 (0.1350)  loss_bbox_1: 0.1642 (0.1914)  loss_giou_1: 0.4785 (0.4815)  loss_ce_2: 0.0597 (0.1055)  loss_bbox_2: 0.1617 (0.1873)  loss_giou_2: 0.5080 (0.4794)  loss_ce_3: 0.0787 (0.0942)  loss_bbox_3: 0.1646 (0.1885)  loss_giou_3: 0.4940 (0.4752)  loss_ce_4: 0.0852 (0.0928)  loss_bbox_4: 0.1616 (0.1880)  loss_giou_4: 0.4953 (0.4750)  loss_ce_unscaled: 0.0874 (0.0912)  class_error_unscaled: 0.0000 (6.4285)  loss_bbox_unscaled: 0.0339 (0.0378)  loss_giou_unscaled: 0.2501 (0.2386)  cardinality_error_unscaled: 1.0000 (1.2541)  loss_ce_0_unscaled: 0.2150 (0.2031)  loss_bbox_0_unscaled: 0.0351 (0.0379)  loss_giou_0_unscaled: 0.2811 (0.2426)  cardinality_error_0_unscaled: 3.0000 (3.9098)  loss_ce_1_unscaled: 0.1226 (0.1350)  loss_bbox_1_unscaled: 0.0328 (0.0383)  loss_giou_1_unscaled: 0.2392 (0.2407)  cardinality_error_1_unscaled: 2.0000 (2.5574)  loss_ce_2_unscaled: 0.0597 (0.1055)  loss_bbox_2_unscaled: 0.0323 (0.0375)  loss_giou_2_unscaled: 0.2540 (0.2397)  cardinality_error_2_unscaled: 1.0000 (1.4754)  loss_ce_3_unscaled: 0.0787 (0.0942)  loss_bbox_3_unscaled: 0.0329 (0.0377)  loss_giou_3_unscaled: 0.2470 (0.2376)  cardinality_error_3_unscaled: 0.5000 (1.2623)  loss_ce_4_unscaled: 0.0852 (0.0928)  loss_bbox_4_unscaled: 0.0323 (0.0376)  loss_giou_4_unscaled: 0.2477 (0.2375)  cardinality_error_4_unscaled: 0.5000 (1.3115)  time: 0.2892  data: 0.0092  max mem: 4054\n",
            "Epoch: [10]  [ 70/295]  eta: 0:01:06  lr: 0.000100  class_error: 11.11  loss: 4.6203 (4.8259)  loss_ce: 0.0654 (0.1010)  loss_bbox: 0.1697 (0.1901)  loss_giou: 0.5049 (0.4837)  loss_ce_0: 0.2015 (0.2074)  loss_bbox_0: 0.1754 (0.1916)  loss_giou_0: 0.5063 (0.4920)  loss_ce_1: 0.1276 (0.1400)  loss_bbox_1: 0.1646 (0.1943)  loss_giou_1: 0.4785 (0.4912)  loss_ce_2: 0.0744 (0.1136)  loss_bbox_2: 0.1665 (0.1898)  loss_giou_2: 0.5080 (0.4871)  loss_ce_3: 0.0717 (0.1036)  loss_bbox_3: 0.1650 (0.1900)  loss_giou_3: 0.4940 (0.4808)  loss_ce_4: 0.0677 (0.1014)  loss_bbox_4: 0.1714 (0.1883)  loss_giou_4: 0.4742 (0.4798)  loss_ce_unscaled: 0.0654 (0.1010)  class_error_unscaled: 0.0000 (7.6067)  loss_bbox_unscaled: 0.0339 (0.0380)  loss_giou_unscaled: 0.2524 (0.2419)  cardinality_error_unscaled: 0.5000 (1.3028)  loss_ce_0_unscaled: 0.2015 (0.2074)  loss_bbox_0_unscaled: 0.0351 (0.0383)  loss_giou_0_unscaled: 0.2531 (0.2460)  cardinality_error_0_unscaled: 3.5000 (4.2113)  loss_ce_1_unscaled: 0.1276 (0.1400)  loss_bbox_1_unscaled: 0.0329 (0.0389)  loss_giou_1_unscaled: 0.2392 (0.2456)  cardinality_error_1_unscaled: 1.5000 (2.6268)  loss_ce_2_unscaled: 0.0744 (0.1136)  loss_bbox_2_unscaled: 0.0333 (0.0380)  loss_giou_2_unscaled: 0.2540 (0.2436)  cardinality_error_2_unscaled: 0.5000 (1.5775)  loss_ce_3_unscaled: 0.0717 (0.1036)  loss_bbox_3_unscaled: 0.0330 (0.0380)  loss_giou_3_unscaled: 0.2470 (0.2404)  cardinality_error_3_unscaled: 0.5000 (1.2958)  loss_ce_4_unscaled: 0.0677 (0.1014)  loss_bbox_4_unscaled: 0.0343 (0.0377)  loss_giou_4_unscaled: 0.2371 (0.2399)  cardinality_error_4_unscaled: 0.5000 (1.3310)  time: 0.2905  data: 0.0089  max mem: 4054\n"
          ],
          "name": "stdout"
        }
      ]
    },
    {
      "cell_type": "markdown",
      "metadata": {
        "id": "rZDwyCYHlQPw",
        "colab_type": "text"
      },
      "source": [
        "# Inferencing the model"
      ]
    },
    {
      "cell_type": "code",
      "metadata": {
        "id": "BsbtvRH0zvZV",
        "colab_type": "code",
        "colab": {}
      },
      "source": [
        "class DETRdemo(nn.Module):\n",
        "    \"\"\"\n",
        "    Demo DETR implementation.\n",
        "\n",
        "    Demo implementation of DETR in minimal number of lines, with the\n",
        "    following differences wrt DETR in the paper:\n",
        "    * learned positional encoding (instead of sine)\n",
        "    * positional encoding is passed at input (instead of attention)\n",
        "    * fc bbox predictor (instead of MLP)\n",
        "    The model achieves ~40 AP on COCO val5k and runs at ~28 FPS on Tesla V100.\n",
        "    Only batch size 1 supported.\n",
        "    \"\"\"\n",
        "    def __init__(self, num_classes, hidden_dim=256, nheads=8,\n",
        "                 num_encoder_layers=6, num_decoder_layers=6):\n",
        "        super().__init__()\n",
        "\n",
        "        # create ResNet-50 backbone\n",
        "        self.backbone = resnet50()\n",
        "        del self.backbone.fc\n",
        "\n",
        "        # create conversion layer\n",
        "        self.conv = nn.Conv2d(2048, hidden_dim, 1)\n",
        "\n",
        "        # create a default PyTorch transformer\n",
        "        self.transformer = nn.Transformer(\n",
        "            hidden_dim, nheads, num_encoder_layers, num_decoder_layers)\n",
        "\n",
        "        # prediction heads, one extra class for predicting non-empty slots\n",
        "        # note that in baseline DETR linear_bbox layer is 3-layer MLP\n",
        "        self.linear_class = nn.Linear(hidden_dim, num_classes + 1)\n",
        "        self.linear_bbox = nn.Linear(hidden_dim, 4)\n",
        "\n",
        "        # output positional encodings (object queries)\n",
        "        self.query_pos = nn.Parameter(torch.rand(100, hidden_dim))\n",
        "\n",
        "        # spatial positional encodings\n",
        "        # note that in baseline DETR we use sine positional encodings\n",
        "        self.row_embed = nn.Parameter(torch.rand(50, hidden_dim // 2))\n",
        "        self.col_embed = nn.Parameter(torch.rand(50, hidden_dim // 2))\n",
        "\n",
        "    def forward(self, inputs):\n",
        "        # propagate inputs through ResNet-50 up to avg-pool layer\n",
        "        x = self.backbone.conv1(inputs)\n",
        "        x = self.backbone.bn1(x)\n",
        "        x = self.backbone.relu(x)\n",
        "        x = self.backbone.maxpool(x)\n",
        "\n",
        "        x = self.backbone.layer1(x)\n",
        "        x = self.backbone.layer2(x)\n",
        "        x = self.backbone.layer3(x)\n",
        "        x = self.backbone.layer4(x)\n",
        "\n",
        "        # convert from 2048 to 256 feature planes for the transformer\n",
        "        h = self.conv(x)\n",
        "\n",
        "        # construct positional encodings\n",
        "        H, W = h.shape[-2:]\n",
        "        pos = torch.cat([\n",
        "            self.col_embed[:W].unsqueeze(0).repeat(H, 1, 1),\n",
        "            self.row_embed[:H].unsqueeze(1).repeat(1, W, 1),\n",
        "        ], dim=-1).flatten(0, 1).unsqueeze(1)\n",
        "\n",
        "        # propagate through the transformer\n",
        "        h = self.transformer(pos + 0.1 * h.flatten(2).permute(2, 0, 1),\n",
        "                             self.query_pos.unsqueeze(1)).transpose(0, 1)\n",
        "        \n",
        "        # finally project transformer outputs to class labels and bounding boxes\n",
        "        return {'pred_logits': self.linear_class(h), \n",
        "                'pred_boxes': self.linear_bbox(h).sigmoid()}"
      ],
      "execution_count": null,
      "outputs": []
    },
    {
      "cell_type": "code",
      "metadata": {
        "id": "kxk8y65hq9Ws",
        "colab_type": "code",
        "colab": {}
      },
      "source": [
        "detr = DETRdemo(num_classes=3)\n",
        "state_dict = torch.load('path/to/saved_model',map_location='cpu')"
      ],
      "execution_count": null,
      "outputs": []
    },
    {
      "cell_type": "code",
      "metadata": {
        "id": "bo7DoKt0rryD",
        "colab_type": "code",
        "colab": {}
      },
      "source": [
        "detr.load_state_dict(state_dict['model'], strict=False)"
      ],
      "execution_count": null,
      "outputs": []
    },
    {
      "cell_type": "code",
      "metadata": {
        "id": "k7qMtRjgEUxj",
        "colab_type": "code",
        "colab": {}
      },
      "source": [
        "detr.eval()"
      ],
      "execution_count": null,
      "outputs": []
    },
    {
      "cell_type": "code",
      "metadata": {
        "id": "_hXxW-B7rEVq",
        "colab_type": "code",
        "colab": {}
      },
      "source": [
        "# classes\n",
        "CLASSES = [\n",
        "    'N/A', 'Without mask', 'With mask'\n",
        "]\n",
        "\n",
        "# colors for visualization\n",
        "COLORS = [[0.000, 0.447, 0.741], [0.850, 0.325, 0.098], [0.929, 0.694, 0.125],\n",
        "          [0.494, 0.184, 0.556], [0.466, 0.674, 0.188], [0.301, 0.745, 0.933]]\n",
        "# standard PyTorch mean-std input image normalization\n",
        "transform = T.Compose([\n",
        "    T.Resize(800),\n",
        "    T.ToTensor(),\n",
        "    T.Normalize([0.485, 0.456, 0.406], [0.229, 0.224, 0.225])\n",
        "])\n",
        "\n",
        "# for output bounding box post-processing\n",
        "def box_cxcywh_to_xyxy(x):\n",
        "    x_c, y_c, w, h = x.unbind(1)\n",
        "    b = [(x_c - 0.5 * w), (y_c - 0.5 * h),\n",
        "         (x_c + 0.5 * w), (y_c + 0.5 * h)]\n",
        "    return torch.stack(b, dim=1)\n",
        "\n",
        "def rescale_bboxes(out_bbox, size):\n",
        "    img_w, img_h = size\n",
        "    b = box_cxcywh_to_xyxy(out_bbox)\n",
        "    b = b * torch.tensor([img_w, img_h, img_w, img_h], dtype=torch.float32)\n",
        "    return b\n",
        "\n",
        "def detect(im, model, transform):\n",
        "    # mean-std normalize the input image (batch-size: 1)\n",
        "    img = transform(im).unsqueeze(0)\n",
        "\n",
        "    # propagate through the model\n",
        "    outputs = model(img)\n",
        "\n",
        "    # keep only predictions with 0.7+ confidence\n",
        "    probas = outputs['pred_logits'].softmax(-1)[0, :, :-1]\n",
        "    keep = probas.max(-1).values > 0.2\n",
        "\n",
        "    # convert boxes from [0; 1] to image scales\n",
        "    bboxes_scaled = rescale_bboxes(outputs['pred_boxes'][0, keep], im.size)\n",
        "    return probas[keep], bboxes_scaled\n",
        "\n",
        "# ploting the results\n",
        "def plot_results(pil_img, prob, boxes):\n",
        "    plt.figure(figsize=(16,10))\n",
        "    plt.imshow(pil_img)\n",
        "    ax = plt.gca()\n",
        "    for p, (xmin, ymin, xmax, ymax), c in zip(prob, boxes.tolist(), COLORS * 100):\n",
        "        ax.add_patch(plt.Rectangle((xmin, ymin), xmax - xmin, ymax - ymin,\n",
        "                                   fill=False, color=c, linewidth=3))\n",
        "        cl = p.argmax()\n",
        "        text = f'{CLASSES[cl]}: {p[cl]:0.2f}'\n",
        "        ax.text(xmin, ymin, text, fontsize=15,\n",
        "                bbox=dict(facecolor='yellow', alpha=0.5))\n",
        "    plt.axis('off')\n",
        "    plt.show()"
      ],
      "execution_count": null,
      "outputs": []
    },
    {
      "cell_type": "code",
      "metadata": {
        "id": "CNyqjsSPrclh",
        "colab_type": "code",
        "colab": {}
      },
      "source": [
        "url = 'https://i.ibb.co/48MVmnZ/maksssksksss10-png-rf-ab631f772c7b9bf15b81faad644c866f.jpg'\n",
        "im = Image.open(requests.get(url, stream=True).raw)"
      ],
      "execution_count": null,
      "outputs": []
    },
    {
      "cell_type": "code",
      "metadata": {
        "id": "SBblazVZEH60",
        "colab_type": "code",
        "colab": {}
      },
      "source": [
        "scores, boxes = detect(im, detr, transform)\n",
        "plot_results(im, scores, boxes)"
      ],
      "execution_count": null,
      "outputs": []
    }
  ]
}